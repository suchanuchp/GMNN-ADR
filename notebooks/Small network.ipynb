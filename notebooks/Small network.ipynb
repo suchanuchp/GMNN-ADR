{
 "cells": [
  {
   "cell_type": "code",
   "execution_count": 1,
   "id": "9f9dee40-55cd-4fc6-a3bb-1ba011e2f62b",
   "metadata": {},
   "outputs": [],
   "source": [
    "%load_ext autoreload\n",
    "%autoreload 2"
   ]
  },
  {
   "cell_type": "code",
   "execution_count": 2,
   "id": "f90f85da-d110-4b54-a522-30c9c44f5d82",
   "metadata": {},
   "outputs": [],
   "source": [
    "import os\n",
    "import sys\n",
    "import numpy as np\n",
    "import pandas as pd\n",
    "from matplotlib import pyplot as plt"
   ]
  },
  {
   "cell_type": "code",
   "execution_count": 3,
   "id": "8dba86f8",
   "metadata": {},
   "outputs": [],
   "source": [
    "# !pip install rdkit-pypi\n",
    "import rdkit.Chem as Chem\n",
    "import rdkit.Chem.AllChem as AllChem\n",
    "import rdkit.DataStructs"
   ]
  },
  {
   "cell_type": "code",
   "execution_count": 4,
   "id": "0ee82703",
   "metadata": {
    "scrolled": true
   },
   "outputs": [
    {
     "name": "stderr",
     "output_type": "stream",
     "text": [
      "[13:44:12] Warning: conflicting stereochemistry at atom 7 ignored. by rule 1a.\n",
      "[13:44:12] Warning: conflicting stereochemistry at atom 7 ignored. by rule 1a.\n",
      "[13:44:12] ERROR: SGroup SAP line too short: 'M  SAP   1  1  13' on line 240658\n",
      "[13:44:12] ERROR: moving to the beginning of the next molecule\n",
      "[13:44:12] Warning: conflicting stereochemistry at atom 0 ignored. by rule 1a.\n",
      "[13:44:12] Warning: conflicting stereochemistry at atom 0 ignored. by rule 1a.\n",
      "[13:44:12] Can't kekulize mol.  Unkekulized atoms: 1 2 3 5 6 7 8 9 10\n",
      "[13:44:12] ERROR: Could not sanitize molecule ending on line 339099\n",
      "[13:44:12] ERROR: Can't kekulize mol.  Unkekulized atoms: 1 2 3 5 6 7 8 9 10\n",
      "[13:44:12] Explicit valence for atom # 35 O, 3, is greater than permitted\n",
      "[13:44:12] ERROR: Could not sanitize molecule ending on line 345154\n",
      "[13:44:12] ERROR: Explicit valence for atom # 35 O, 3, is greater than permitted\n",
      "[13:44:12] Explicit valence for atom # 17 O, 3, is greater than permitted\n",
      "[13:44:12] ERROR: Could not sanitize molecule ending on line 346061\n",
      "[13:44:12] ERROR: Explicit valence for atom # 17 O, 3, is greater than permitted\n",
      "[13:44:12] Can't kekulize mol.  Unkekulized atoms: 57 58 59 60 61 62 63 64 65\n",
      "[13:44:12] ERROR: Could not sanitize molecule ending on line 349475\n",
      "[13:44:12] ERROR: Can't kekulize mol.  Unkekulized atoms: 57 58 59 60 61 62 63 64 65\n",
      "[13:44:12] Can't kekulize mol.  Unkekulized atoms: 0 1 2 6 7 8 9 10 11 12 13 14 15 16 17\n",
      "[13:44:12] ERROR: Could not sanitize molecule ending on line 367933\n",
      "[13:44:12] ERROR: Can't kekulize mol.  Unkekulized atoms: 0 1 2 6 7 8 9 10 11 12 13 14 15 16 17\n",
      "[13:44:12] Explicit valence for atom # 13 Cl, 5, is greater than permitted\n",
      "[13:44:12] ERROR: Could not sanitize molecule ending on line 370162\n",
      "[13:44:12] ERROR: Explicit valence for atom # 13 Cl, 5, is greater than permitted\n",
      "[13:44:12] Can't kekulize mol.  Unkekulized atoms: 3 4 5 6 7 8 10 11 12\n",
      "[13:44:12] ERROR: Could not sanitize molecule ending on line 379867\n",
      "[13:44:12] ERROR: Can't kekulize mol.  Unkekulized atoms: 3 4 5 6 7 8 10 11 12\n",
      "[13:44:12] Can't kekulize mol.  Unkekulized atoms: 0 1 2 4 5 6 7 8 9 10\n",
      "[13:44:12] ERROR: Could not sanitize molecule ending on line 380923\n",
      "[13:44:12] ERROR: Can't kekulize mol.  Unkekulized atoms: 0 1 2 4 5 6 7 8 9 10\n",
      "[13:44:12] Can't kekulize mol.  Unkekulized atoms: 2 3 4 5 6 7 8 9 10\n",
      "[13:44:12] ERROR: Could not sanitize molecule ending on line 389682\n",
      "[13:44:12] ERROR: Can't kekulize mol.  Unkekulized atoms: 2 3 4 5 6 7 8 9 10\n",
      "[13:44:12] Can't kekulize mol.  Unkekulized atoms: 13 14 15 16 22\n",
      "[13:44:12] ERROR: Could not sanitize molecule ending on line 390890\n",
      "[13:44:12] ERROR: Can't kekulize mol.  Unkekulized atoms: 13 14 15 16 22\n",
      "[13:44:12] Explicit valence for atom # 27 N, 4, is greater than permitted\n",
      "[13:44:12] ERROR: Could not sanitize molecule ending on line 404607\n",
      "[13:44:12] ERROR: Explicit valence for atom # 27 N, 4, is greater than permitted\n",
      "[13:44:12] Explicit valence for atom # 16 N, 4, is greater than permitted\n",
      "[13:44:12] ERROR: Could not sanitize molecule ending on line 405129\n",
      "[13:44:12] ERROR: Explicit valence for atom # 16 N, 4, is greater than permitted\n",
      "[13:44:12] Can't kekulize mol.  Unkekulized atoms: 3 4 5 6 54\n",
      "[13:44:12] ERROR: Could not sanitize molecule ending on line 411316\n",
      "[13:44:12] ERROR: Can't kekulize mol.  Unkekulized atoms: 3 4 5 6 54\n",
      "[13:44:12] Can't kekulize mol.  Unkekulized atoms: 3 4 5 6 7\n",
      "[13:44:12] ERROR: Could not sanitize molecule ending on line 412422\n",
      "[13:44:12] ERROR: Can't kekulize mol.  Unkekulized atoms: 3 4 5 6 7\n",
      "[13:44:12] Can't kekulize mol.  Unkekulized atoms: 2 3 4 5 11\n",
      "[13:44:12] ERROR: Could not sanitize molecule ending on line 418233\n",
      "[13:44:12] ERROR: Can't kekulize mol.  Unkekulized atoms: 2 3 4 5 11\n",
      "[13:44:12] Can't kekulize mol.  Unkekulized atoms: 1 2 3 4 5 6 7 8 9\n",
      "[13:44:12] ERROR: Could not sanitize molecule ending on line 419507\n",
      "[13:44:12] ERROR: Can't kekulize mol.  Unkekulized atoms: 1 2 3 4 5 6 7 8 9\n",
      "[13:44:12] Can't kekulize mol.  Unkekulized atoms: 3 4 5 6 7\n",
      "[13:44:12] ERROR: Could not sanitize molecule ending on line 433194\n",
      "[13:44:12] ERROR: Can't kekulize mol.  Unkekulized atoms: 3 4 5 6 7\n",
      "[13:44:12] Can't kekulize mol.  Unkekulized atoms: 5 6 7 8 9 10 11 12 13\n",
      "[13:44:12] ERROR: Could not sanitize molecule ending on line 442846\n",
      "[13:44:12] ERROR: Can't kekulize mol.  Unkekulized atoms: 5 6 7 8 9 10 11 12 13\n",
      "[13:44:12] Can't kekulize mol.  Unkekulized atoms: 3 4 5 6 7\n",
      "[13:44:12] ERROR: Could not sanitize molecule ending on line 456065\n",
      "[13:44:12] ERROR: Can't kekulize mol.  Unkekulized atoms: 3 4 5 6 7\n",
      "[13:44:12] Can't kekulize mol.  Unkekulized atoms: 25 26 27 28 29 30 31 32 33\n",
      "[13:44:12] ERROR: Could not sanitize molecule ending on line 458296\n",
      "[13:44:12] ERROR: Can't kekulize mol.  Unkekulized atoms: 25 26 27 28 29 30 31 32 33\n",
      "[13:44:12] Can't kekulize mol.  Unkekulized atoms: 1 2 3 4 5 6 7 8 9\n",
      "[13:44:12] ERROR: Could not sanitize molecule ending on line 463367\n",
      "[13:44:12] ERROR: Can't kekulize mol.  Unkekulized atoms: 1 2 3 4 5 6 7 8 9\n",
      "[13:44:13] Explicit valence for atom # 56 O, 3, is greater than permitted\n",
      "[13:44:13] ERROR: Could not sanitize molecule ending on line 482092\n",
      "[13:44:13] ERROR: Explicit valence for atom # 56 O, 3, is greater than permitted\n",
      "[13:44:13] Can't kekulize mol.  Unkekulized atoms: 9 10 11 12 18\n",
      "[13:44:13] ERROR: Could not sanitize molecule ending on line 491585\n",
      "[13:44:13] ERROR: Can't kekulize mol.  Unkekulized atoms: 9 10 11 12 18\n",
      "[13:44:13] Can't kekulize mol.  Unkekulized atoms: 1 2 3 12 13 14 15 16 17\n",
      "[13:44:13] ERROR: Could not sanitize molecule ending on line 506523\n",
      "[13:44:13] ERROR: Can't kekulize mol.  Unkekulized atoms: 1 2 3 12 13 14 15 16 17\n",
      "[13:44:13] Can't kekulize mol.  Unkekulized atoms: 44 45 46 47 49\n",
      "[13:44:13] ERROR: Could not sanitize molecule ending on line 508687\n",
      "[13:44:13] ERROR: Can't kekulize mol.  Unkekulized atoms: 44 45 46 47 49\n",
      "[13:44:13] Explicit valence for atom # 8 N, 5, is greater than permitted\n",
      "[13:44:13] ERROR: Could not sanitize molecule ending on line 509808\n",
      "[13:44:13] ERROR: Explicit valence for atom # 8 N, 5, is greater than permitted\n",
      "[13:44:13] Can't kekulize mol.  Unkekulized atoms: 54 55 56 57 58 59 60 61 62\n",
      "[13:44:13] ERROR: Could not sanitize molecule ending on line 511347\n",
      "[13:44:13] ERROR: Can't kekulize mol.  Unkekulized atoms: 54 55 56 57 58 59 60 61 62\n",
      "[13:44:13] Can't kekulize mol.  Unkekulized atoms: 0 1 2 3 4 5 6 7 8\n",
      "[13:44:13] ERROR: Could not sanitize molecule ending on line 515449\n",
      "[13:44:13] ERROR: Can't kekulize mol.  Unkekulized atoms: 0 1 2 3 4 5 6 7 8\n",
      "[13:44:13] Can't kekulize mol.  Unkekulized atoms: 3 4 5 6 8 9 10\n",
      "[13:44:13] ERROR: Could not sanitize molecule ending on line 525878\n",
      "[13:44:13] ERROR: Can't kekulize mol.  Unkekulized atoms: 3 4 5 6 8 9 10\n",
      "[13:44:13] Can't kekulize mol.  Unkekulized atoms: 3 4 5 6 9\n",
      "[13:44:13] ERROR: Could not sanitize molecule ending on line 530402\n",
      "[13:44:13] ERROR: Can't kekulize mol.  Unkekulized atoms: 3 4 5 6 9\n",
      "[13:44:13] Can't kekulize mol.  Unkekulized atoms: 16 17 18 19 20\n",
      "[13:44:13] ERROR: Could not sanitize molecule ending on line 548612\n",
      "[13:44:13] ERROR: Can't kekulize mol.  Unkekulized atoms: 16 17 18 19 20\n",
      "[13:44:13] Can't kekulize mol.  Unkekulized atoms: 7 8 9 10 17\n",
      "[13:44:13] ERROR: Could not sanitize molecule ending on line 551219\n",
      "[13:44:13] ERROR: Can't kekulize mol.  Unkekulized atoms: 7 8 9 10 17\n",
      "[13:44:13] Can't kekulize mol.  Unkekulized atoms: 3 4 5 6 7 8 9 10 11\n",
      "[13:44:13] ERROR: Could not sanitize molecule ending on line 551562\n",
      "[13:44:13] ERROR: Can't kekulize mol.  Unkekulized atoms: 3 4 5 6 7 8 9 10 11\n",
      "[13:44:13] Explicit valence for atom # 53 N, 4, is greater than permitted\n",
      "[13:44:13] ERROR: Could not sanitize molecule ending on line 554586\n",
      "[13:44:13] ERROR: Explicit valence for atom # 53 N, 4, is greater than permitted\n",
      "[13:44:13] Can't kekulize mol.  Unkekulized atoms: 2 3 4 5 12\n",
      "[13:44:13] ERROR: Could not sanitize molecule ending on line 562618\n",
      "[13:44:13] ERROR: Can't kekulize mol.  Unkekulized atoms: 2 3 4 5 12\n",
      "[13:44:13] Explicit valence for atom # 2 O, 3, is greater than permitted\n",
      "[13:44:13] ERROR: Could not sanitize molecule ending on line 580867\n",
      "[13:44:13] ERROR: Explicit valence for atom # 2 O, 3, is greater than permitted\n",
      "[13:44:13] Can't kekulize mol.  Unkekulized atoms: 1 2 3 4 5 6 7 8 9\n",
      "[13:44:13] ERROR: Could not sanitize molecule ending on line 584930\n",
      "[13:44:13] ERROR: Can't kekulize mol.  Unkekulized atoms: 1 2 3 4 5 6 7 8 9\n",
      "[13:44:13] Can't kekulize mol.  Unkekulized atoms: 0 1 2 4 5 6 7 8 9 10\n",
      "[13:44:13] ERROR: Could not sanitize molecule ending on line 589572\n",
      "[13:44:13] ERROR: Can't kekulize mol.  Unkekulized atoms: 0 1 2 4 5 6 7 8 9 10\n",
      "[13:44:13] Can't kekulize mol.  Unkekulized atoms: 1 2 3 4 5 6 7 8 9\n",
      "[13:44:13] ERROR: Could not sanitize molecule ending on line 591361\n",
      "[13:44:13] ERROR: Can't kekulize mol.  Unkekulized atoms: 1 2 3 4 5 6 7 8 9\n",
      "[13:44:13] Can't kekulize mol.  Unkekulized atoms: 3 4 5 6 7 8 10\n",
      "[13:44:13] ERROR: Could not sanitize molecule ending on line 592382\n",
      "[13:44:13] ERROR: Can't kekulize mol.  Unkekulized atoms: 3 4 5 6 7 8 10\n",
      "[13:44:13] Can't kekulize mol.  Unkekulized atoms: 1 2 3 5 6 7 8 9 10\n",
      "[13:44:13] ERROR: Could not sanitize molecule ending on line 593152\n",
      "[13:44:13] ERROR: Can't kekulize mol.  Unkekulized atoms: 1 2 3 5 6 7 8 9 10\n",
      "[13:44:13] Explicit valence for atom # 2 O, 3, is greater than permitted\n",
      "[13:44:13] ERROR: Could not sanitize molecule ending on line 600277\n",
      "[13:44:13] ERROR: Explicit valence for atom # 2 O, 3, is greater than permitted\n",
      "[13:44:13] Explicit valence for atom # 6 B, 4, is greater than permitted\n",
      "[13:44:13] ERROR: Could not sanitize molecule ending on line 622180\n",
      "[13:44:13] ERROR: Explicit valence for atom # 6 B, 4, is greater than permitted\n",
      "[13:44:13] Can't kekulize mol.  Unkekulized atoms: 2 3 17 19 20\n",
      "[13:44:13] ERROR: Could not sanitize molecule ending on line 637879\n",
      "[13:44:13] ERROR: Can't kekulize mol.  Unkekulized atoms: 2 3 17 19 20\n",
      "[13:44:13] Can't kekulize mol.  Unkekulized atoms: 0 1 2 4 5 6 7 8 9 10\n",
      "[13:44:13] ERROR: Could not sanitize molecule ending on line 641495\n",
      "[13:44:13] ERROR: Can't kekulize mol.  Unkekulized atoms: 0 1 2 4 5 6 7 8 9 10\n",
      "[13:44:13] Can't kekulize mol.  Unkekulized atoms: 10 11 12 13 19\n",
      "[13:44:13] ERROR: Could not sanitize molecule ending on line 643058\n",
      "[13:44:13] ERROR: Can't kekulize mol.  Unkekulized atoms: 10 11 12 13 19\n",
      "[13:44:13] Explicit valence for atom # 27 N, 4, is greater than permitted\n",
      "[13:44:13] ERROR: Could not sanitize molecule ending on line 647103\n",
      "[13:44:13] ERROR: Explicit valence for atom # 27 N, 4, is greater than permitted\n",
      "[13:44:13] Can't kekulize mol.  Unkekulized atoms: 9 10 11 12 13 14 15 16 17\n",
      "[13:44:13] ERROR: Could not sanitize molecule ending on line 648261\n",
      "[13:44:13] ERROR: Can't kekulize mol.  Unkekulized atoms: 9 10 11 12 13 14 15 16 17\n",
      "[13:44:13] Can't kekulize mol.  Unkekulized atoms: 23 24 25 26 27\n",
      "[13:44:13] ERROR: Could not sanitize molecule ending on line 654329\n",
      "[13:44:13] ERROR: Can't kekulize mol.  Unkekulized atoms: 23 24 25 26 27\n",
      "[13:44:13] Can't kekulize mol.  Unkekulized atoms: 5 6 7 8 9\n",
      "[13:44:13] ERROR: Could not sanitize molecule ending on line 671968\n",
      "[13:44:13] ERROR: Can't kekulize mol.  Unkekulized atoms: 5 6 7 8 9\n",
      "[13:44:13] Explicit valence for atom # 0 O, 3, is greater than permitted\n",
      "[13:44:13] ERROR: Could not sanitize molecule ending on line 675420\n",
      "[13:44:13] ERROR: Explicit valence for atom # 0 O, 3, is greater than permitted\n",
      "[13:44:13] Explicit valence for atom # 0 Br, 2, is greater than permitted\n",
      "[13:44:13] ERROR: Could not sanitize molecule ending on line 678492\n",
      "[13:44:13] ERROR: Explicit valence for atom # 0 Br, 2, is greater than permitted\n"
     ]
    },
    {
     "name": "stderr",
     "output_type": "stream",
     "text": [
      "[13:44:13] Explicit valence for atom # 1 N, 4, is greater than permitted\n",
      "[13:44:13] ERROR: Could not sanitize molecule ending on line 681169\n",
      "[13:44:13] ERROR: Explicit valence for atom # 1 N, 4, is greater than permitted\n",
      "[13:44:13] Explicit valence for atom # 6 Be, 4, is greater than permitted\n",
      "[13:44:13] ERROR: Could not sanitize molecule ending on line 683721\n",
      "[13:44:13] ERROR: Explicit valence for atom # 6 Be, 4, is greater than permitted\n",
      "[13:44:13] Can't kekulize mol.  Unkekulized atoms: 4 5 6 7 8 9 10 11 12\n",
      "[13:44:13] ERROR: Could not sanitize molecule ending on line 684197\n",
      "[13:44:13] ERROR: Can't kekulize mol.  Unkekulized atoms: 4 5 6 7 8 9 10 11 12\n",
      "[13:44:13] Can't kekulize mol.  Unkekulized atoms: 5 6 7 8 9 10 11 12 13\n",
      "[13:44:13] ERROR: Could not sanitize molecule ending on line 695085\n",
      "[13:44:13] ERROR: Can't kekulize mol.  Unkekulized atoms: 5 6 7 8 9 10 11 12 13\n",
      "[13:44:13] Can't kekulize mol.  Unkekulized atoms: 1 2 3 5 6 7 8 9 10\n",
      "[13:44:13] ERROR: Could not sanitize molecule ending on line 701869\n",
      "[13:44:13] ERROR: Can't kekulize mol.  Unkekulized atoms: 1 2 3 5 6 7 8 9 10\n",
      "[13:44:13] Can't kekulize mol.  Unkekulized atoms: 5 6 7 8 9 10 11 12 13\n",
      "[13:44:13] ERROR: Could not sanitize molecule ending on line 706625\n",
      "[13:44:13] ERROR: Can't kekulize mol.  Unkekulized atoms: 5 6 7 8 9 10 11 12 13\n",
      "[13:44:13] Explicit valence for atom # 19 N, 4, is greater than permitted\n",
      "[13:44:13] ERROR: Could not sanitize molecule ending on line 715340\n",
      "[13:44:13] ERROR: Explicit valence for atom # 19 N, 4, is greater than permitted\n",
      "[13:44:13] Explicit valence for atom # 0 O, 3, is greater than permitted\n",
      "[13:44:13] ERROR: Could not sanitize molecule ending on line 718990\n",
      "[13:44:13] ERROR: Explicit valence for atom # 0 O, 3, is greater than permitted\n",
      "[13:44:13] Explicit valence for atom # 4 F, 2, is greater than permitted\n",
      "[13:44:13] ERROR: Could not sanitize molecule ending on line 723448\n",
      "[13:44:13] ERROR: Explicit valence for atom # 4 F, 2, is greater than permitted\n",
      "[13:44:13] Can't kekulize mol.  Unkekulized atoms: 0 1 2 4 5 6 7 8 9 10\n",
      "[13:44:13] ERROR: Could not sanitize molecule ending on line 737893\n",
      "[13:44:13] ERROR: Can't kekulize mol.  Unkekulized atoms: 0 1 2 4 5 6 7 8 9 10\n",
      "[13:44:14] Explicit valence for atom # 0 Be, 3, is greater than permitted\n",
      "[13:44:14] ERROR: Could not sanitize molecule ending on line 996947\n",
      "[13:44:14] ERROR: Explicit valence for atom # 0 Be, 3, is greater than permitted\n"
     ]
    },
    {
     "data": {
      "text/plain": [
       "6749"
      ]
     },
     "execution_count": 4,
     "metadata": {},
     "output_type": "execute_result"
    }
   ],
   "source": [
    "supplier = rdkit.Chem.SDMolSupplier(\n",
    "    '/Users/suchanuchpiriyasatit/Documents/Tsinghua/Random Processes/dse_random_walk/data/all.sdf')\n",
    "molecules = [mol for mol in supplier if mol is not None]\n",
    "len(molecules)"
   ]
  },
  {
   "cell_type": "code",
   "execution_count": 5,
   "id": "5a80c6ba",
   "metadata": {
    "scrolled": true
   },
   "outputs": [
    {
     "data": {
      "image/png": "[encoded data removed]",
      "text/html": [
       "<table><tr><td colspan=\"2\" style=\"text-align: center;\"><image src=\"data:image/png;base64,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\"></td></tr>\n",
       "<tr><th style=\"text-align: right\">DATABASE_ID</th><td style=\"text-align: left\">DB00014</td></tr>\n",
       "<tr><th style=\"text-align: right\">DATABASE_NAME</th><td style=\"text-align: left\">drugbank</td></tr>\n",
       "<tr><th style=\"text-align: right\">SMILES</th><td style=\"text-align: left\">CC(C)C[C@H](NC(=O)[C@@H](COC(C)(C)C)NC(=O)[C@H](CC1=CC=C(O)C=C1)NC(=O)[C@H](CO)NC(=O)[C@H](CC1=CNC2=CC=CC=C12)NC(=O)[C@H](CC1=CN=CN1)NC(=O)[C@@H]1CCC(=O)N1)C(=O)N[C@@H](CCCN=C(N)N)C(=O)N1CCC[C@H]1C(=O)NNC(N)=O</td></tr>\n",
       "<tr><th style=\"text-align: right\">INCHI_IDENTIFIER</th><td style=\"text-align: left\">InChI=1S/C59H84N18O14/c1-31(2)22-40(49(82)68-39(12-8-20-64-57(60)61)56(89)77-21-9-13-46(77)55(88)75-76-58(62)90)69-54(87)45(29-91-59(3,4)5)74-50(83)41(23-32-14-16-35(79)17-15-32)70-53(86)44(28-78)73-51(84)42(24-33-26-65-37-11-7-6-10-36(33)37)71-52(85)43(25-34-27-63-30-66-34)72-48(81)38-18-19-47(80)67-38/h6-7,10-11,14-17,26-27,30-31,38-46,65,78-79H,8-9,12-13,18-25,28-29H2,1-5H3,(H,63,66)(H,67,80)(H,68,82)(H,69,87)(H,70,86)(H,71,85)(H,72,81)(H,73,84)(H,74,83)(H,75,88)(H4,60,61,64)(H3,62,76,90)/t38-,39-,40-,41-,42-,43-,44-,45+,46-/m0/s1</td></tr>\n",
       "<tr><th style=\"text-align: right\">INCHI_KEY</th><td style=\"text-align: left\">InChIKey=BLCLNMBMMGCOAS-URPVMXJPSA-N</td></tr>\n",
       "<tr><th style=\"text-align: right\">JCHEM_ACCEPTOR_COUNT</th><td style=\"text-align: left\">18</td></tr>\n",
       "<tr><th style=\"text-align: right\">JCHEM_AVERAGE_POLARIZABILITY</th><td style=\"text-align: left\">131.22118283534343</td></tr>\n",
       "<tr><th style=\"text-align: right\">JCHEM_BIOAVAILABILITY</th><td style=\"text-align: left\">0</td></tr>\n",
       "<tr><th style=\"text-align: right\">JCHEM_DONOR_COUNT</th><td style=\"text-align: left\">17</td></tr>\n",
       "<tr><th style=\"text-align: right\">JCHEM_EXACT_MASS</th><td style=\"text-align: left\">1268.641439486</td></tr>\n",
       "<tr><td colspan=\"2\" style=\"text-align: center\">Property list truncated.<br />Increase IPythonConsole.ipython_maxProperties (or set it to -1) to see more properties.</td></tr></table>"
      ],
      "text/plain": [
       "<rdkit.Chem.rdchem.Mol at 0x121d163f0>"
      ]
     },
     "execution_count": 5,
     "metadata": {},
     "output_type": "execute_result"
    }
   ],
   "source": [
    "molecules[0]"
   ]
  },
  {
   "cell_type": "code",
   "execution_count": 76,
   "id": "fc001c4c",
   "metadata": {},
   "outputs": [],
   "source": [
    "# Calculate fingerprints\n",
    "fingerprints = dict()\n",
    "fingerprints_bitvec = dict()\n",
    "for mol in molecules:\n",
    "    drugbank_id = mol.GetProp('DATABASE_ID')\n",
    "#     fingerprint = rdkit.Chem.AllChem.GetMorganFingerprint(mol, 2)\n",
    "    fingerprint = AllChem.GetMorganFingerprintAsBitVect(\n",
    "            mol, radius=2, nBits = 1024)\n",
    "    bitvec = np.array(fingerprint)\n",
    "    fingerprints_bitvec[drugbank_id] = bitvec\n",
    "    fingerprints[drugbank_id] = np.nonzero(bitvec)[0]\n",
    "    \n"
   ]
  },
  {
   "cell_type": "code",
   "execution_count": 7,
   "id": "60377b73-9a7c-48da-97c1-1f58e4b9a961",
   "metadata": {},
   "outputs": [
    {
     "name": "stdout",
     "output_type": "stream",
     "text": [
      "\u001b[1m\u001b[36madr\u001b[m\u001b[m      \u001b[1m\u001b[36mciteseer\u001b[m\u001b[m \u001b[1m\u001b[36mcora\u001b[m\u001b[m     \u001b[1m\u001b[36mpubmed\u001b[m\u001b[m\r\n"
     ]
    }
   ],
   "source": [
    "!ls ../semisupervised/data/"
   ]
  },
  {
   "cell_type": "code",
   "execution_count": 15,
   "id": "5d914df2-462b-4388-914d-01e373a58e06",
   "metadata": {},
   "outputs": [
    {
     "name": "stdout",
     "output_type": "stream",
     "text": [
      "(814,) (5296,)\n",
      "(814,) (1479,)\n"
     ]
    }
   ],
   "source": [
    "data_path = '../semisupervised/data/adr'\n",
    "df_se = pd.read_csv(os.path.join(data_path, 'drug_se_filtered.csv'))\n",
    "drug_chem_sim = pd.read_csv(os.path.join(data_path, 'drug_sim_filtered.csv'))\n",
    "# filter only class with >= 5 samples\n",
    "cc = df_se.groupby('side_effect_name').count().sort_values('drug')\n",
    "filtered_se = cc[cc.drug>=10].index\n",
    "print(df_se.drug.unique().shape, df_se.side_effect_name.unique().shape)\n",
    "df_se = df_se[df_se.side_effect_name.isin(filtered_se)]\n",
    "print(df_se.drug.unique().shape, df_se.side_effect_name.unique().shape)"
   ]
  },
  {
   "cell_type": "code",
   "execution_count": 16,
   "id": "bc23a864",
   "metadata": {},
   "outputs": [
    {
     "data": {
      "text/plain": [
       "813"
      ]
     },
     "execution_count": 16,
     "metadata": {},
     "output_type": "execute_result"
    }
   ],
   "source": [
    "len(set(df_se.drug.unique()).intersection(set(fingerprints.keys())))"
   ]
  },
  {
   "cell_type": "code",
   "execution_count": 17,
   "id": "b608b4cf",
   "metadata": {},
   "outputs": [],
   "source": [
    "filtered_drugs = set(\n",
    "    df_se.drug.unique()).intersection(set(fingerprints.keys()))"
   ]
  },
  {
   "cell_type": "code",
   "execution_count": 27,
   "id": "68146c3b",
   "metadata": {},
   "outputs": [
    {
     "data": {
      "text/plain": [
       "[38]"
      ]
     },
     "execution_count": 27,
     "metadata": {},
     "output_type": "execute_result"
    }
   ],
   "source": [
    "to_remove_drugs = set(\n",
    "    df_se.drug.unique()).difference(set(fingerprints.keys()))\n",
    "to_remove_drugs\n",
    "cols = drug_chem_sim.columns.tolist()\n",
    "to_remove_idx = [cols.index(drug) for drug in to_remove_drugs]\n",
    "to_remove_idx"
   ]
  },
  {
   "cell_type": "code",
   "execution_count": 29,
   "id": "acca09fc",
   "metadata": {},
   "outputs": [
    {
     "data": {
      "text/html": [
       "<div>\n",
       "<style scoped>\n",
       "    .dataframe tbody tr th:only-of-type {\n",
       "        vertical-align: middle;\n",
       "    }\n",
       "\n",
       "    .dataframe tbody tr th {\n",
       "        vertical-align: top;\n",
       "    }\n",
       "\n",
       "    .dataframe thead th {\n",
       "        text-align: right;\n",
       "    }\n",
       "</style>\n",
       "<table border=\"1\" class=\"dataframe\">\n",
       "  <thead>\n",
       "    <tr style=\"text-align: right;\">\n",
       "      <th></th>\n",
       "      <th>DB00698</th>\n",
       "      <th>DB00726</th>\n",
       "      <th>DB00501</th>\n",
       "      <th>DB00586</th>\n",
       "      <th>DB01112</th>\n",
       "      <th>DB00543</th>\n",
       "      <th>DB00952</th>\n",
       "      <th>DB00341</th>\n",
       "      <th>DB00710</th>\n",
       "      <th>DB00904</th>\n",
       "      <th>...</th>\n",
       "      <th>DB00828</th>\n",
       "      <th>DB00203</th>\n",
       "      <th>DB00708</th>\n",
       "      <th>DB01032</th>\n",
       "      <th>DB00335</th>\n",
       "      <th>DB00567</th>\n",
       "      <th>DB00529</th>\n",
       "      <th>DB00609</th>\n",
       "      <th>DB01265</th>\n",
       "      <th>DB01119</th>\n",
       "    </tr>\n",
       "  </thead>\n",
       "  <tbody>\n",
       "    <tr>\n",
       "      <th>0</th>\n",
       "      <td>1.000000</td>\n",
       "      <td>0.126374</td>\n",
       "      <td>0.150538</td>\n",
       "      <td>0.143646</td>\n",
       "      <td>0.207602</td>\n",
       "      <td>0.171806</td>\n",
       "      <td>0.133333</td>\n",
       "      <td>0.172973</td>\n",
       "      <td>0.078212</td>\n",
       "      <td>0.146718</td>\n",
       "      <td>...</td>\n",
       "      <td>0.054945</td>\n",
       "      <td>0.148148</td>\n",
       "      <td>0.167442</td>\n",
       "      <td>0.143617</td>\n",
       "      <td>0.117647</td>\n",
       "      <td>0.176871</td>\n",
       "      <td>0.026316</td>\n",
       "      <td>0.124294</td>\n",
       "      <td>0.145038</td>\n",
       "      <td>0.132701</td>\n",
       "    </tr>\n",
       "    <tr>\n",
       "      <th>1</th>\n",
       "      <td>0.126374</td>\n",
       "      <td>1.000000</td>\n",
       "      <td>0.115385</td>\n",
       "      <td>0.452632</td>\n",
       "      <td>0.106109</td>\n",
       "      <td>0.201220</td>\n",
       "      <td>0.261194</td>\n",
       "      <td>0.233333</td>\n",
       "      <td>0.117117</td>\n",
       "      <td>0.206349</td>\n",
       "      <td>...</td>\n",
       "      <td>0.069565</td>\n",
       "      <td>0.163763</td>\n",
       "      <td>0.328467</td>\n",
       "      <td>0.216667</td>\n",
       "      <td>0.272727</td>\n",
       "      <td>0.144628</td>\n",
       "      <td>0.011628</td>\n",
       "      <td>0.214953</td>\n",
       "      <td>0.089623</td>\n",
       "      <td>0.223022</td>\n",
       "    </tr>\n",
       "    <tr>\n",
       "      <th>2</th>\n",
       "      <td>0.150538</td>\n",
       "      <td>0.115385</td>\n",
       "      <td>1.000000</td>\n",
       "      <td>0.097015</td>\n",
       "      <td>0.086154</td>\n",
       "      <td>0.144444</td>\n",
       "      <td>0.163399</td>\n",
       "      <td>0.097902</td>\n",
       "      <td>0.099174</td>\n",
       "      <td>0.139423</td>\n",
       "      <td>...</td>\n",
       "      <td>0.064516</td>\n",
       "      <td>0.120915</td>\n",
       "      <td>0.110465</td>\n",
       "      <td>0.131387</td>\n",
       "      <td>0.103704</td>\n",
       "      <td>0.104247</td>\n",
       "      <td>0.043478</td>\n",
       "      <td>0.148760</td>\n",
       "      <td>0.111111</td>\n",
       "      <td>0.177632</td>\n",
       "    </tr>\n",
       "    <tr>\n",
       "      <th>3</th>\n",
       "      <td>0.143646</td>\n",
       "      <td>0.452632</td>\n",
       "      <td>0.097015</td>\n",
       "      <td>1.000000</td>\n",
       "      <td>0.127036</td>\n",
       "      <td>0.220859</td>\n",
       "      <td>0.187500</td>\n",
       "      <td>0.339286</td>\n",
       "      <td>0.105263</td>\n",
       "      <td>0.173469</td>\n",
       "      <td>...</td>\n",
       "      <td>0.106195</td>\n",
       "      <td>0.138983</td>\n",
       "      <td>0.268966</td>\n",
       "      <td>0.223140</td>\n",
       "      <td>0.290909</td>\n",
       "      <td>0.172269</td>\n",
       "      <td>0.059524</td>\n",
       "      <td>0.200000</td>\n",
       "      <td>0.104265</td>\n",
       "      <td>0.246377</td>\n",
       "    </tr>\n",
       "    <tr>\n",
       "      <th>4</th>\n",
       "      <td>0.207602</td>\n",
       "      <td>0.106109</td>\n",
       "      <td>0.086154</td>\n",
       "      <td>0.127036</td>\n",
       "      <td>1.000000</td>\n",
       "      <td>0.157143</td>\n",
       "      <td>0.138973</td>\n",
       "      <td>0.163399</td>\n",
       "      <td>0.081433</td>\n",
       "      <td>0.168901</td>\n",
       "      <td>...</td>\n",
       "      <td>0.078176</td>\n",
       "      <td>0.212528</td>\n",
       "      <td>0.200000</td>\n",
       "      <td>0.127389</td>\n",
       "      <td>0.152318</td>\n",
       "      <td>0.672414</td>\n",
       "      <td>0.027875</td>\n",
       "      <td>0.104575</td>\n",
       "      <td>0.229692</td>\n",
       "      <td>0.148936</td>\n",
       "    </tr>\n",
       "    <tr>\n",
       "      <th>...</th>\n",
       "      <td>...</td>\n",
       "      <td>...</td>\n",
       "      <td>...</td>\n",
       "      <td>...</td>\n",
       "      <td>...</td>\n",
       "      <td>...</td>\n",
       "      <td>...</td>\n",
       "      <td>...</td>\n",
       "      <td>...</td>\n",
       "      <td>...</td>\n",
       "      <td>...</td>\n",
       "      <td>...</td>\n",
       "      <td>...</td>\n",
       "      <td>...</td>\n",
       "      <td>...</td>\n",
       "      <td>...</td>\n",
       "      <td>...</td>\n",
       "      <td>...</td>\n",
       "      <td>...</td>\n",
       "      <td>...</td>\n",
       "      <td>...</td>\n",
       "    </tr>\n",
       "    <tr>\n",
       "      <th>809</th>\n",
       "      <td>0.176871</td>\n",
       "      <td>0.144628</td>\n",
       "      <td>0.104247</td>\n",
       "      <td>0.172269</td>\n",
       "      <td>0.672414</td>\n",
       "      <td>0.185965</td>\n",
       "      <td>0.183206</td>\n",
       "      <td>0.224576</td>\n",
       "      <td>0.099585</td>\n",
       "      <td>0.186495</td>\n",
       "      <td>...</td>\n",
       "      <td>0.100000</td>\n",
       "      <td>0.202532</td>\n",
       "      <td>0.223485</td>\n",
       "      <td>0.166667</td>\n",
       "      <td>0.206009</td>\n",
       "      <td>1.000000</td>\n",
       "      <td>0.036364</td>\n",
       "      <td>0.133891</td>\n",
       "      <td>0.215686</td>\n",
       "      <td>0.151852</td>\n",
       "    </tr>\n",
       "    <tr>\n",
       "      <th>810</th>\n",
       "      <td>0.026316</td>\n",
       "      <td>0.011628</td>\n",
       "      <td>0.043478</td>\n",
       "      <td>0.059524</td>\n",
       "      <td>0.027875</td>\n",
       "      <td>0.027778</td>\n",
       "      <td>0.043478</td>\n",
       "      <td>0.053191</td>\n",
       "      <td>0.229508</td>\n",
       "      <td>0.028736</td>\n",
       "      <td>...</td>\n",
       "      <td>0.233333</td>\n",
       "      <td>0.043956</td>\n",
       "      <td>0.047244</td>\n",
       "      <td>0.114943</td>\n",
       "      <td>0.045977</td>\n",
       "      <td>0.036364</td>\n",
       "      <td>1.000000</td>\n",
       "      <td>0.025316</td>\n",
       "      <td>0.034091</td>\n",
       "      <td>0.043103</td>\n",
       "    </tr>\n",
       "    <tr>\n",
       "      <th>811</th>\n",
       "      <td>0.124294</td>\n",
       "      <td>0.214953</td>\n",
       "      <td>0.148760</td>\n",
       "      <td>0.200000</td>\n",
       "      <td>0.104575</td>\n",
       "      <td>0.116959</td>\n",
       "      <td>0.263566</td>\n",
       "      <td>0.213675</td>\n",
       "      <td>0.113208</td>\n",
       "      <td>0.240223</td>\n",
       "      <td>...</td>\n",
       "      <td>0.093458</td>\n",
       "      <td>0.142857</td>\n",
       "      <td>0.157895</td>\n",
       "      <td>0.166667</td>\n",
       "      <td>0.196429</td>\n",
       "      <td>0.133891</td>\n",
       "      <td>0.025316</td>\n",
       "      <td>1.000000</td>\n",
       "      <td>0.086957</td>\n",
       "      <td>0.115646</td>\n",
       "    </tr>\n",
       "    <tr>\n",
       "      <th>812</th>\n",
       "      <td>0.145038</td>\n",
       "      <td>0.089623</td>\n",
       "      <td>0.111111</td>\n",
       "      <td>0.104265</td>\n",
       "      <td>0.229692</td>\n",
       "      <td>0.123077</td>\n",
       "      <td>0.152838</td>\n",
       "      <td>0.140845</td>\n",
       "      <td>0.140625</td>\n",
       "      <td>0.133333</td>\n",
       "      <td>...</td>\n",
       "      <td>0.123711</td>\n",
       "      <td>0.162602</td>\n",
       "      <td>0.193966</td>\n",
       "      <td>0.126168</td>\n",
       "      <td>0.157635</td>\n",
       "      <td>0.215686</td>\n",
       "      <td>0.034091</td>\n",
       "      <td>0.086957</td>\n",
       "      <td>1.000000</td>\n",
       "      <td>0.142241</td>\n",
       "    </tr>\n",
       "    <tr>\n",
       "      <th>813</th>\n",
       "      <td>0.132701</td>\n",
       "      <td>0.223022</td>\n",
       "      <td>0.177632</td>\n",
       "      <td>0.246377</td>\n",
       "      <td>0.148936</td>\n",
       "      <td>0.184615</td>\n",
       "      <td>0.201183</td>\n",
       "      <td>0.205298</td>\n",
       "      <td>0.104895</td>\n",
       "      <td>0.124464</td>\n",
       "      <td>...</td>\n",
       "      <td>0.053691</td>\n",
       "      <td>0.179487</td>\n",
       "      <td>0.213483</td>\n",
       "      <td>0.285714</td>\n",
       "      <td>0.152318</td>\n",
       "      <td>0.151852</td>\n",
       "      <td>0.043103</td>\n",
       "      <td>0.115646</td>\n",
       "      <td>0.142241</td>\n",
       "      <td>1.000000</td>\n",
       "    </tr>\n",
       "  </tbody>\n",
       "</table>\n",
       "<p>814 rows × 813 columns</p>\n",
       "</div>"
      ],
      "text/plain": [
       "      DB00698   DB00726   DB00501   DB00586   DB01112   DB00543   DB00952  \\\n",
       "0    1.000000  0.126374  0.150538  0.143646  0.207602  0.171806  0.133333   \n",
       "1    0.126374  1.000000  0.115385  0.452632  0.106109  0.201220  0.261194   \n",
       "2    0.150538  0.115385  1.000000  0.097015  0.086154  0.144444  0.163399   \n",
       "3    0.143646  0.452632  0.097015  1.000000  0.127036  0.220859  0.187500   \n",
       "4    0.207602  0.106109  0.086154  0.127036  1.000000  0.157143  0.138973   \n",
       "..        ...       ...       ...       ...       ...       ...       ...   \n",
       "809  0.176871  0.144628  0.104247  0.172269  0.672414  0.185965  0.183206   \n",
       "810  0.026316  0.011628  0.043478  0.059524  0.027875  0.027778  0.043478   \n",
       "811  0.124294  0.214953  0.148760  0.200000  0.104575  0.116959  0.263566   \n",
       "812  0.145038  0.089623  0.111111  0.104265  0.229692  0.123077  0.152838   \n",
       "813  0.132701  0.223022  0.177632  0.246377  0.148936  0.184615  0.201183   \n",
       "\n",
       "      DB00341   DB00710   DB00904  ...   DB00828   DB00203   DB00708  \\\n",
       "0    0.172973  0.078212  0.146718  ...  0.054945  0.148148  0.167442   \n",
       "1    0.233333  0.117117  0.206349  ...  0.069565  0.163763  0.328467   \n",
       "2    0.097902  0.099174  0.139423  ...  0.064516  0.120915  0.110465   \n",
       "3    0.339286  0.105263  0.173469  ...  0.106195  0.138983  0.268966   \n",
       "4    0.163399  0.081433  0.168901  ...  0.078176  0.212528  0.200000   \n",
       "..        ...       ...       ...  ...       ...       ...       ...   \n",
       "809  0.224576  0.099585  0.186495  ...  0.100000  0.202532  0.223485   \n",
       "810  0.053191  0.229508  0.028736  ...  0.233333  0.043956  0.047244   \n",
       "811  0.213675  0.113208  0.240223  ...  0.093458  0.142857  0.157895   \n",
       "812  0.140845  0.140625  0.133333  ...  0.123711  0.162602  0.193966   \n",
       "813  0.205298  0.104895  0.124464  ...  0.053691  0.179487  0.213483   \n",
       "\n",
       "      DB01032   DB00335   DB00567   DB00529   DB00609   DB01265   DB01119  \n",
       "0    0.143617  0.117647  0.176871  0.026316  0.124294  0.145038  0.132701  \n",
       "1    0.216667  0.272727  0.144628  0.011628  0.214953  0.089623  0.223022  \n",
       "2    0.131387  0.103704  0.104247  0.043478  0.148760  0.111111  0.177632  \n",
       "3    0.223140  0.290909  0.172269  0.059524  0.200000  0.104265  0.246377  \n",
       "4    0.127389  0.152318  0.672414  0.027875  0.104575  0.229692  0.148936  \n",
       "..        ...       ...       ...       ...       ...       ...       ...  \n",
       "809  0.166667  0.206009  1.000000  0.036364  0.133891  0.215686  0.151852  \n",
       "810  0.114943  0.045977  0.036364  1.000000  0.025316  0.034091  0.043103  \n",
       "811  0.166667  0.196429  0.133891  0.025316  1.000000  0.086957  0.115646  \n",
       "812  0.126168  0.157635  0.215686  0.034091  0.086957  1.000000  0.142241  \n",
       "813  0.285714  0.152318  0.151852  0.043103  0.115646  0.142241  1.000000  \n",
       "\n",
       "[814 rows x 813 columns]"
      ]
     },
     "execution_count": 29,
     "metadata": {},
     "output_type": "execute_result"
    }
   ],
   "source": [
    "drug_chem_sim.drop(to_remove_drugs, axis=1)"
   ]
  },
  {
   "cell_type": "markdown",
   "id": "13c5e6fa",
   "metadata": {},
   "source": [
    "### Filter only drugs with chemical structures"
   ]
  },
  {
   "cell_type": "code",
   "execution_count": 31,
   "id": "29d19110",
   "metadata": {},
   "outputs": [],
   "source": [
    "df_se = df_se[df_se.drug.isin(filtered_drugs)]\n",
    "drug_chem_sim = drug_chem_sim.drop(to_remove_drugs, axis=1)\n",
    "drug_chem_sim = drug_chem_sim.drop(to_remove_idx, axis=0)"
   ]
  },
  {
   "cell_type": "code",
   "execution_count": 37,
   "id": "c7f3523a",
   "metadata": {},
   "outputs": [
    {
     "data": {
      "text/plain": [
       "813.0"
      ]
     },
     "execution_count": 37,
     "metadata": {},
     "output_type": "execute_result"
    }
   ],
   "source": [
    "np.sum(drug_chem_sim.to_numpy().diagonal())"
   ]
  },
  {
   "cell_type": "code",
   "execution_count": 38,
   "id": "b488dc0e",
   "metadata": {},
   "outputs": [
    {
     "data": {
      "text/plain": [
       "(813, 813)"
      ]
     },
     "execution_count": 38,
     "metadata": {},
     "output_type": "execute_result"
    }
   ],
   "source": [
    "drug_chem_sim.shape"
   ]
  },
  {
   "cell_type": "markdown",
   "id": "8f5ed460",
   "metadata": {},
   "source": [
    "## Network"
   ]
  },
  {
   "cell_type": "code",
   "execution_count": 39,
   "id": "d7792869",
   "metadata": {},
   "outputs": [],
   "source": [
    "d = drug_chem_sim.to_numpy()\n",
    "np.fill_diagonal(d, 0)\n",
    "thres = np.where(d>=0.5, 1, 0)\n"
   ]
  },
  {
   "cell_type": "code",
   "execution_count": 40,
   "id": "31d8f96b",
   "metadata": {},
   "outputs": [
    {
     "data": {
      "text/plain": [
       "177"
      ]
     },
     "execution_count": 40,
     "metadata": {},
     "output_type": "execute_result"
    }
   ],
   "source": [
    "np.sum(np.sum(thres, axis=1)==0)\n",
    "# stand-alone node"
   ]
  },
  {
   "cell_type": "code",
   "execution_count": 41,
   "id": "de411b31",
   "metadata": {},
   "outputs": [
    {
     "data": {
      "text/plain": [
       "(array([451., 150.,  69.,  61.,  37.,  14.,  12.,   8.,   5.,   6.]),\n",
       " array([ 0. ,  4.1,  8.2, 12.3, 16.4, 20.5, 24.6, 28.7, 32.8, 36.9, 41. ]),\n",
       " <BarContainer object of 10 artists>)"
      ]
     },
     "execution_count": 41,
     "metadata": {},
     "output_type": "execute_result"
    },
    {
     "data": {
      "image/png": "[encoded data removed]",
      "text/plain": [
       "<Figure size 640x480 with 1 Axes>"
      ]
     },
     "metadata": {},
     "output_type": "display_data"
    }
   ],
   "source": [
    "plt.hist(np.sum(thres, axis=1))"
   ]
  },
  {
   "cell_type": "code",
   "execution_count": 42,
   "id": "a33fd655",
   "metadata": {},
   "outputs": [],
   "source": [
    "with open(os.path.join(data_path, 'net.txt'), 'w') as f:\n",
    "    for i in range(thres.shape[0]):\n",
    "        if np.sum(thres[i])==0: # no edges\n",
    "            f.write(f'{i}\\n')\n",
    "        for j in thres[i].nonzero()[0]:\n",
    "            f.write(f'{i}\\t{j}\\t{1}\\n')#str(i)+' ' +str(j)+' '+str(A_n[i,j])+'\\n')\n",
    "    \n"
   ]
  },
  {
   "cell_type": "markdown",
   "id": "de2ca3f7",
   "metadata": {},
   "source": [
    "## Labels"
   ]
  },
  {
   "cell_type": "code",
   "execution_count": 43,
   "id": "bac1f3a8",
   "metadata": {},
   "outputs": [],
   "source": [
    "stoi = {s: i for i, s in enumerate(drug_chem_sim.columns)}\n",
    "itos = {i: s for i, s in enumerate(drug_chem_sim.columns)}"
   ]
  },
  {
   "cell_type": "code",
   "execution_count": 44,
   "id": "2a21d1ec",
   "metadata": {},
   "outputs": [],
   "source": [
    "poi_drugs = df_se[df_se.side_effect_name=='Shock'].drug.values"
   ]
  },
  {
   "cell_type": "code",
   "execution_count": 45,
   "id": "ce8ebd00",
   "metadata": {},
   "outputs": [],
   "source": [
    "with open(os.path.join(data_path, 'label.txt'), 'w') as f:\n",
    "    for i in range(drug_chem_sim.shape[0]):\n",
    "        drug = itos[i]\n",
    "        label = 1 if drug in poi_drugs else 0\n",
    "        f.write(f'{i}\\t{label}\\n')\n",
    "    "
   ]
  },
  {
   "cell_type": "code",
   "execution_count": 46,
   "id": "1e52f43a",
   "metadata": {},
   "outputs": [],
   "source": [
    "# s = df_se.groupby('side_effect_name').count().sort_values('drug')\n",
    "# s[s.drug>400]"
   ]
  },
  {
   "cell_type": "code",
   "execution_count": 47,
   "id": "1600eff7",
   "metadata": {},
   "outputs": [],
   "source": [
    "# df_se.groupby('side_effect_name').count().drug.describe()"
   ]
  },
  {
   "cell_type": "code",
   "execution_count": 48,
   "id": "d712eb11",
   "metadata": {},
   "outputs": [
    {
     "data": {
      "text/plain": [
       "(409,)"
      ]
     },
     "execution_count": 48,
     "metadata": {},
     "output_type": "execute_result"
    }
   ],
   "source": [
    "df_se[df_se.side_effect_name=='Shock'].drug.unique().shape"
   ]
  },
  {
   "cell_type": "code",
   "execution_count": 49,
   "id": "17c87122",
   "metadata": {},
   "outputs": [
    {
     "data": {
      "text/plain": [
       "0.5043050430504306"
      ]
     },
     "execution_count": 49,
     "metadata": {},
     "output_type": "execute_result"
    }
   ],
   "source": [
    "410/drug_chem_sim.columns.shape[0]"
   ]
  },
  {
   "cell_type": "markdown",
   "id": "87cfead2",
   "metadata": {},
   "source": [
    "## No Features -> Unique array"
   ]
  },
  {
   "cell_type": "code",
   "execution_count": 50,
   "id": "f9446613",
   "metadata": {},
   "outputs": [],
   "source": [
    "# 0\t19:1.0 81:1.0 146:1.0 315:1.0 774:1.0 877:1.0 1194:1.0 1247:1.0 1274:1.0\n"
   ]
  },
  {
   "cell_type": "code",
   "execution_count": 51,
   "id": "dc2f3830",
   "metadata": {},
   "outputs": [],
   "source": [
    "with open(os.path.join(data_path, 'blank_feature.txt'), 'w') as f:\n",
    "    for i in range(drug_chem_sim.shape[0]):\n",
    "        drug = itos[i]\n",
    "        label = 1 if drug in poi_drugs else 0\n",
    "        f.write(f'{i}\\t{i}:{1.0}\\n')\n",
    "    "
   ]
  },
  {
   "cell_type": "code",
   "execution_count": 52,
   "id": "f326b8fc",
   "metadata": {},
   "outputs": [
    {
     "data": {
      "text/plain": [
       "array([   1,    4,   33,   64,   79,   80,   81,   86,   90,   94,  108,\n",
       "        114,  117,  118,  119,  128,  132,  140,  144,  147,  151,  175,\n",
       "        188,  193,  213,  222,  231,  242,  283,  289,  301,  310,  314,\n",
       "        316,  325,  328,  333,  351,  354,  356,  362,  364,  369,  378,\n",
       "        392,  409,  446,  448,  456,  457,  458,  482,  488,  502,  504,\n",
       "        508,  511,  531,  549,  551,  573,  578,  579,  583,  592,  624,\n",
       "        648,  650,  655,  661,  680,  689,  695,  713,  714,  720,  725,\n",
       "        726,  730,  736,  739,  745,  754,  759,  766,  798,  806,  807,\n",
       "        823,  835,  837,  841,  849,  855,  857,  867,  882,  887,  892,\n",
       "        893,  902,  913,  918,  926,  927,  935,  946,  963,  973,  978,\n",
       "        980,  982,  985,  992, 1019])"
      ]
     },
     "execution_count": 52,
     "metadata": {},
     "output_type": "execute_result"
    }
   ],
   "source": [
    "fingerprints['DB00014']"
   ]
  },
  {
   "cell_type": "markdown",
   "id": "bd069a93",
   "metadata": {},
   "source": [
    "## Chemical Features"
   ]
  },
  {
   "cell_type": "code",
   "execution_count": 53,
   "id": "9d41f462",
   "metadata": {},
   "outputs": [],
   "source": [
    "# 0\t19:1.0 81:1.0 146:1.0 315:1.0 774:1.0 877:1.0 1194:1.0 1247:1.0 1274:1.0\n",
    "\n",
    "with open(os.path.join(data_path, 'chem_feature.txt'), 'w') as f:\n",
    "    for i in range(drug_chem_sim.shape[0]):\n",
    "        drug = itos[i]\n",
    "        nonzero_idx = fingerprints[drug]\n",
    "        st = [f'{idx}:1.0' for idx in nonzero_idx]\n",
    "        st = ' '.join(st)\n",
    "        f.write(f'{i}\\t{st}\\n')\n",
    "        "
   ]
  },
  {
   "cell_type": "code",
   "execution_count": 55,
   "id": "f72ec001",
   "metadata": {},
   "outputs": [
    {
     "data": {
      "text/plain": [
       "(813, 813)"
      ]
     },
     "execution_count": 55,
     "metadata": {},
     "output_type": "execute_result"
    }
   ],
   "source": [
    "drug_chem_sim.shape"
   ]
  },
  {
   "cell_type": "markdown",
   "id": "6a76785b",
   "metadata": {},
   "source": [
    "## Train/Valid/Test Split - 80/10/10"
   ]
  },
  {
   "cell_type": "code",
   "execution_count": 70,
   "id": "3bd194e3",
   "metadata": {},
   "outputs": [
    {
     "data": {
      "text/plain": [
       "(650.4000000000001, 81.30000000000001)"
      ]
     },
     "execution_count": 70,
     "metadata": {},
     "output_type": "execute_result"
    }
   ],
   "source": [
    ".8*813, .1*813"
   ]
  },
  {
   "cell_type": "code",
   "execution_count": 56,
   "id": "4ec6ec24",
   "metadata": {},
   "outputs": [],
   "source": [
    "with open(os.path.join(data_path, 'train.txt'), 'w') as f:\n",
    "    for i in range(650):\n",
    "        f.write(f'{i}\\n')\n",
    "    "
   ]
  },
  {
   "cell_type": "code",
   "execution_count": 57,
   "id": "e027752f",
   "metadata": {},
   "outputs": [],
   "source": [
    "with open(os.path.join(data_path, 'dev.txt'), 'w') as f:\n",
    "    for i in range(650, 650+81):\n",
    "        f.write(f'{i}\\n')\n",
    "    "
   ]
  },
  {
   "cell_type": "code",
   "execution_count": 58,
   "id": "48b38367",
   "metadata": {},
   "outputs": [],
   "source": [
    "with open(os.path.join(data_path, 'test.txt'), 'w') as f:\n",
    "    for i in range(650+81, drug_chem_sim.shape[0]):\n",
    "        f.write(f'{i}\\n')\n",
    "    "
   ]
  },
  {
   "cell_type": "code",
   "execution_count": 65,
   "id": "1fe442f1",
   "metadata": {},
   "outputs": [
    {
     "data": {
      "text/plain": [
       "(38, 2)"
      ]
     },
     "execution_count": 65,
     "metadata": {},
     "output_type": "execute_result"
    }
   ],
   "source": [
    "test_drugs = drug_chem_sim.columns.tolist()[650+81:]\n",
    "poi = df_se[(df_se.drug.isin(test_drugs))&\n",
    "            (df_se.side_effect_name=='Shock')]\n",
    "poi.shape"
   ]
  },
  {
   "cell_type": "code",
   "execution_count": 71,
   "id": "5a64f688",
   "metadata": {},
   "outputs": [
    {
     "data": {
      "text/plain": [
       "83"
      ]
     },
     "execution_count": 71,
     "metadata": {},
     "output_type": "execute_result"
    }
   ],
   "source": [
    "(drug_chem_sim.shape[0]-(650+81)+1)"
   ]
  },
  {
   "cell_type": "code",
   "execution_count": 72,
   "id": "c5b2605f",
   "metadata": {},
   "outputs": [
    {
     "data": {
      "text/plain": [
       "0.4578313253012048"
      ]
     },
     "execution_count": 72,
     "metadata": {},
     "output_type": "execute_result"
    }
   ],
   "source": [
    "# class 1 ratio\n",
    "38/(drug_chem_sim.shape[0]-(650+81)+1)"
   ]
  },
  {
   "cell_type": "code",
   "execution_count": 120,
   "id": "35cb0ede",
   "metadata": {},
   "outputs": [
    {
     "data": {
      "text/plain": [
       "62.195229999999995"
      ]
     },
     "execution_count": 120,
     "metadata": {},
     "output_type": "execute_result"
    }
   ],
   "source": [
    "s = [64.634,\n",
    "63.415,\n",
    "63.415,\n",
    "63.415,\n",
    "62.195,\n",
    "60.976,\n",
    "60.976,\n",
    "62.195,\n",
    "62.195,\n",
    "60.976,\n",
    "63.415,\n",
    "60.976,\n",
    "62.195,\n",
    "62.195,\n",
    "62.195,\n",
    "60.976,\n",
    "64.634,\n",
    "60.976,\n",
    "62.195,\n",
    "62.195,\n",
    "59.756,\n",
    "62.195,\n",
    "62.195,\n",
    "60.976,\n",
    "63.415,\n",
    "62.195,\n",
    "59.756,\n",
    "60.976,\n",
    "60.976,\n",
    "62.195,\n",
    "62.195,\n",
    "62.195,\n",
    "62.195,\n",
    "64.634,\n",
    "63.415,\n",
    "64.634,\n",
    "63.415,\n",
    "60.976,\n",
    "64.634,\n",
    "58.537,\n",
    "63.415,\n",
    "65.854,\n",
    "60.976,\n",
    "60.976,\n",
    "62.195,\n",
    "62.195,\n",
    "59.756,\n",
    "60.976,\n",
    "62.195,\n",
    "60.976,\n",
    "64.634,\n",
    "60.976,\n",
    "62.195,\n",
    "64.634,\n",
    "62.195,\n",
    "64.634,\n",
    "63.415,\n",
    "63.415,\n",
    "62.195,\n",
    "59.756,\n",
    "62.195,\n",
    "62.195,\n",
    "62.195,\n",
    "62.195,\n",
    "62.195,\n",
    "63.415,\n",
    "60.976,\n",
    "62.195,\n",
    "64.634,\n",
    "62.195,\n",
    "65.854,\n",
    "60.976,\n",
    "62.195,\n",
    "62.195,\n",
    "62.195,\n",
    "60.976,\n",
    "62.195,\n",
    "58.537,\n",
    "62.195,\n",
    "62.195,\n",
    "63.415,\n",
    "60.976,\n",
    "64.634,\n",
    "62.195,\n",
    "60.976,\n",
    "62.195,\n",
    "63.415,\n",
    "60.976,\n",
    "60.976,\n",
    "60.976,\n",
    "60.976,\n",
    "63.415,\n",
    "60.976,\n",
    "62.195,\n",
    "62.195,\n",
    "63.415,\n",
    "62.195,\n",
    "62.195,\n",
    "60.976,\n",
    "60.976,\n",
    "    ]\n",
    "np.sum(s)/len(s)"
   ]
  },
  {
   "cell_type": "code",
   "execution_count": null,
   "id": "3525438c",
   "metadata": {},
   "outputs": [],
   "source": []
  },
  {
   "cell_type": "code",
   "execution_count": 121,
   "id": "247ef111",
   "metadata": {},
   "outputs": [
    {
     "data": {
      "text/plain": [
       "61.914849999999994"
      ]
     },
     "execution_count": 121,
     "metadata": {},
     "output_type": "execute_result"
    }
   ],
   "source": [
    "s = [60.976,\n",
    "58.537,\n",
    "63.415,\n",
    "63.415,\n",
    "63.415,\n",
    "64.634,\n",
    "58.537,\n",
    "60.976,\n",
    "60.976,\n",
    "60.976,\n",
    "62.195,\n",
    "67.073,\n",
    "62.195,\n",
    "60.976,\n",
    "63.415,\n",
    "58.537,\n",
    "59.756,\n",
    "58.537,\n",
    "64.634,\n",
    "63.415,\n",
    "62.195,\n",
    "62.195,\n",
    "62.195,\n",
    "62.195,\n",
    "67.073,\n",
    "60.976,\n",
    "62.195,\n",
    "64.634,\n",
    "60.976,\n",
    "63.415,\n",
    "62.195,\n",
    "58.537,\n",
    "63.415,\n",
    "56.098,\n",
    "60.976,\n",
    "60.976,\n",
    "63.415,\n",
    "62.195,\n",
    "58.537,\n",
    "63.415,\n",
    "65.854,\n",
    "60.976,\n",
    "60.976,\n",
    "58.537,\n",
    "62.195,\n",
    "60.976,\n",
    "59.756,\n",
    "58.537,\n",
    "58.537,\n",
    "59.756,\n",
    "60.976,\n",
    "65.854,\n",
    "63.415,\n",
    "62.195,\n",
    "64.634,\n",
    "58.537,\n",
    "60.976,\n",
    "64.634,\n",
    "63.415,\n",
    "60.976,\n",
    "59.756,\n",
    "59.756,\n",
    "63.415,\n",
    "59.756,\n",
    "60.976,\n",
    "60.976,\n",
    "62.195,\n",
    "60.976,\n",
    "63.415,\n",
    "60.976,\n",
    "60.976,\n",
    "62.195,\n",
    "63.415,\n",
    "62.195,\n",
    "65.854,\n",
    "65.854,\n",
    "63.415,\n",
    "65.854,\n",
    "60.976,\n",
    "60.976,\n",
    "63.415,\n",
    "60.976,\n",
    "63.415,\n",
    "62.195,\n",
    "59.756,\n",
    "63.415,\n",
    "63.415,\n",
    "63.415,\n",
    "62.195,\n",
    "60.976,\n",
    "63.415,\n",
    "65.854,\n",
    "63.415,\n",
    "59.756,\n",
    "60.976,\n",
    "59.756,\n",
    "58.537,\n",
    "63.415,\n",
    "60.976,\n",
    "62.195,\n",
    "]\n",
    "np.sum(s)/len(s)"
   ]
  },
  {
   "cell_type": "markdown",
   "id": "2f3f7bc0",
   "metadata": {},
   "source": [
    ",## RF Baseline"
   ]
  },
  {
   "cell_type": "code",
   "execution_count": 114,
   "id": "fe324ad3",
   "metadata": {},
   "outputs": [],
   "source": [
    "cols = drug_chem_sim.columns.tolist()\n",
    "poi_drugs = df_se[df_se.side_effect_name=='Shock'].drug.values\n",
    "X_train = np.array([fingerprints_bitvec[cols[i]] for i in range(650)])\n",
    "Y_train = [int(itos[i] in poi_drugs)  for i in range(650)]\n",
    "X_valid = np.array([fingerprints_bitvec[cols[i]] for i in range(650, 650+81)])\n",
    "Y_valid = [int(itos[i] in poi_drugs)  for i in range(650, 650+81)]\n",
    "X_test = np.array([fingerprints_bitvec[cols[i]] for i in range(650+81, drug_chem_sim.shape[0])])\n",
    "Y_test = [int(itos[i] in poi_drugs)  for i in range(650+81, drug_chem_sim.shape[0])]\n"
   ]
  },
  {
   "cell_type": "code",
   "execution_count": 116,
   "id": "7d74ef80",
   "metadata": {},
   "outputs": [
    {
     "name": "stdout",
     "output_type": "stream",
     "text": [
      "0.803076923076923 0.5679012345679012\n",
      "0.8461538461538461 0.5925925925925926\n",
      "0.8892307692307693 0.5679012345679012\n",
      "0.9092307692307692 0.5802469135802469\n",
      "0.9230769230769231 0.6049382716049383\n",
      "0.936923076923077 0.5925925925925926\n",
      "0.9569230769230769 0.6049382716049383\n",
      "0.9584615384615385 0.5555555555555556\n",
      "0.9692307692307692 0.5802469135802469\n",
      "0.9661538461538461 0.5679012345679012\n",
      "0.9692307692307692 0.5925925925925926\n",
      "0.9753846153846154 0.5555555555555556\n",
      "0.9784615384615385 0.5432098765432098\n",
      "0.9753846153846154 0.5925925925925926\n",
      "0.9846153846153847 0.5925925925925926\n"
     ]
    }
   ],
   "source": [
    "from sklearn.ensemble import RandomForestClassifier\n",
    "for i in range(5,20):\n",
    "    clf = RandomForestClassifier(max_depth=i, min_samples_split=2,random_state=0)\n",
    "    clf.fit(X_train, Y_train)\n",
    "    print(clf.score(X_train, Y_train), clf.score(X_valid, Y_valid))\n",
    "    # print(clf.predict([[0, 0, 0, 0]]))"
   ]
  },
  {
   "cell_type": "code",
   "execution_count": 122,
   "id": "1168b0ca",
   "metadata": {},
   "outputs": [
    {
     "data": {
      "text/html": [
       "<style>#sk-container-id-8 {color: black;}#sk-container-id-8 pre{padding: 0;}#sk-container-id-8 div.sk-toggleable {background-color: white;}#sk-container-id-8 label.sk-toggleable__label {cursor: pointer;display: block;width: 100%;margin-bottom: 0;padding: 0.3em;box-sizing: border-box;text-align: center;}#sk-container-id-8 label.sk-toggleable__label-arrow:before {content: \"▸\";float: left;margin-right: 0.25em;color: #696969;}#sk-container-id-8 label.sk-toggleable__label-arrow:hover:before {color: black;}#sk-container-id-8 div.sk-estimator:hover label.sk-toggleable__label-arrow:before {color: black;}#sk-container-id-8 div.sk-toggleable__content {max-height: 0;max-width: 0;overflow: hidden;text-align: left;background-color: #f0f8ff;}#sk-container-id-8 div.sk-toggleable__content pre {margin: 0.2em;color: black;border-radius: 0.25em;background-color: #f0f8ff;}#sk-container-id-8 input.sk-toggleable__control:checked~div.sk-toggleable__content {max-height: 200px;max-width: 100%;overflow: auto;}#sk-container-id-8 input.sk-toggleable__control:checked~label.sk-toggleable__label-arrow:before {content: \"▾\";}#sk-container-id-8 div.sk-estimator input.sk-toggleable__control:checked~label.sk-toggleable__label {background-color: #d4ebff;}#sk-container-id-8 div.sk-label input.sk-toggleable__control:checked~label.sk-toggleable__label {background-color: #d4ebff;}#sk-container-id-8 input.sk-hidden--visually {border: 0;clip: rect(1px 1px 1px 1px);clip: rect(1px, 1px, 1px, 1px);height: 1px;margin: -1px;overflow: hidden;padding: 0;position: absolute;width: 1px;}#sk-container-id-8 div.sk-estimator {font-family: monospace;background-color: #f0f8ff;border: 1px dotted black;border-radius: 0.25em;box-sizing: border-box;margin-bottom: 0.5em;}#sk-container-id-8 div.sk-estimator:hover {background-color: #d4ebff;}#sk-container-id-8 div.sk-parallel-item::after {content: \"\";width: 100%;border-bottom: 1px solid gray;flex-grow: 1;}#sk-container-id-8 div.sk-label:hover label.sk-toggleable__label {background-color: #d4ebff;}#sk-container-id-8 div.sk-serial::before {content: \"\";position: absolute;border-left: 1px solid gray;box-sizing: border-box;top: 0;bottom: 0;left: 50%;z-index: 0;}#sk-container-id-8 div.sk-serial {display: flex;flex-direction: column;align-items: center;background-color: white;padding-right: 0.2em;padding-left: 0.2em;position: relative;}#sk-container-id-8 div.sk-item {position: relative;z-index: 1;}#sk-container-id-8 div.sk-parallel {display: flex;align-items: stretch;justify-content: center;background-color: white;position: relative;}#sk-container-id-8 div.sk-item::before, #sk-container-id-8 div.sk-parallel-item::before {content: \"\";position: absolute;border-left: 1px solid gray;box-sizing: border-box;top: 0;bottom: 0;left: 50%;z-index: -1;}#sk-container-id-8 div.sk-parallel-item {display: flex;flex-direction: column;z-index: 1;position: relative;background-color: white;}#sk-container-id-8 div.sk-parallel-item:first-child::after {align-self: flex-end;width: 50%;}#sk-container-id-8 div.sk-parallel-item:last-child::after {align-self: flex-start;width: 50%;}#sk-container-id-8 div.sk-parallel-item:only-child::after {width: 0;}#sk-container-id-8 div.sk-dashed-wrapped {border: 1px dashed gray;margin: 0 0.4em 0.5em 0.4em;box-sizing: border-box;padding-bottom: 0.4em;background-color: white;}#sk-container-id-8 div.sk-label label {font-family: monospace;font-weight: bold;display: inline-block;line-height: 1.2em;}#sk-container-id-8 div.sk-label-container {text-align: center;}#sk-container-id-8 div.sk-container {/* jupyter's `normalize.less` sets `[hidden] { display: none; }` but bootstrap.min.css set `[hidden] { display: none !important; }` so we also need the `!important` here to be able to override the default hidden behavior on the sphinx rendered scikit-learn.org. See: https://github.com/scikit-learn/scikit-learn/issues/21755 */display: inline-block !important;position: relative;}#sk-container-id-8 div.sk-text-repr-fallback {display: none;}</style><div id=\"sk-container-id-8\" class=\"sk-top-container\"><div class=\"sk-text-repr-fallback\"><pre>Pipeline(steps=[(&#x27;standardscaler&#x27;, StandardScaler()),\n",
       "                (&#x27;svc&#x27;, SVC(gamma=&#x27;auto&#x27;))])</pre><b>In a Jupyter environment, please rerun this cell to show the HTML representation or trust the notebook. <br />On GitHub, the HTML representation is unable to render, please try loading this page with nbviewer.org.</b></div><div class=\"sk-container\" hidden><div class=\"sk-item sk-dashed-wrapped\"><div class=\"sk-label-container\"><div class=\"sk-label sk-toggleable\"><input class=\"sk-toggleable__control sk-hidden--visually\" id=\"sk-estimator-id-8\" type=\"checkbox\" ><label for=\"sk-estimator-id-8\" class=\"sk-toggleable__label sk-toggleable__label-arrow\">Pipeline</label><div class=\"sk-toggleable__content\"><pre>Pipeline(steps=[(&#x27;standardscaler&#x27;, StandardScaler()),\n",
       "                (&#x27;svc&#x27;, SVC(gamma=&#x27;auto&#x27;))])</pre></div></div></div><div class=\"sk-serial\"><div class=\"sk-item\"><div class=\"sk-estimator sk-toggleable\"><input class=\"sk-toggleable__control sk-hidden--visually\" id=\"sk-estimator-id-9\" type=\"checkbox\" ><label for=\"sk-estimator-id-9\" class=\"sk-toggleable__label sk-toggleable__label-arrow\">StandardScaler</label><div class=\"sk-toggleable__content\"><pre>StandardScaler()</pre></div></div></div><div class=\"sk-item\"><div class=\"sk-estimator sk-toggleable\"><input class=\"sk-toggleable__control sk-hidden--visually\" id=\"sk-estimator-id-10\" type=\"checkbox\" ><label for=\"sk-estimator-id-10\" class=\"sk-toggleable__label sk-toggleable__label-arrow\">SVC</label><div class=\"sk-toggleable__content\"><pre>SVC(gamma=&#x27;auto&#x27;)</pre></div></div></div></div></div></div></div>"
      ],
      "text/plain": [
       "Pipeline(steps=[('standardscaler', StandardScaler()),\n",
       "                ('svc', SVC(gamma='auto'))])"
      ]
     },
     "execution_count": 122,
     "metadata": {},
     "output_type": "execute_result"
    }
   ],
   "source": [
    "import numpy as np\n",
    "from sklearn.pipeline import make_pipeline\n",
    "from sklearn.preprocessing import StandardScaler\n",
    "\n",
    "from sklearn.svm import SVC\n",
    "clf = make_pipeline(StandardScaler(), SVC(gamma='auto'))\n",
    "clf.fit(X_train, Y_train)"
   ]
  },
  {
   "cell_type": "code",
   "execution_count": 123,
   "id": "a81b240f",
   "metadata": {},
   "outputs": [
    {
     "name": "stdout",
     "output_type": "stream",
     "text": [
      "0.9738461538461538 0.5925925925925926\n"
     ]
    }
   ],
   "source": [
    "print(clf.score(X_train, Y_train), clf.score(X_valid, Y_valid))"
   ]
  },
  {
   "cell_type": "code",
   "execution_count": 117,
   "id": "3b002188",
   "metadata": {},
   "outputs": [
    {
     "name": "stdout",
     "output_type": "stream",
     "text": [
      "0.9230769230769231 0.6049382716049383\n"
     ]
    }
   ],
   "source": [
    "clf = RandomForestClassifier(max_depth=9, min_samples_split=2,random_state=0)\n",
    "clf.fit(X_train, Y_train)\n",
    "print(clf.score(X_train, Y_train), clf.score(X_valid, Y_valid))"
   ]
  },
  {
   "cell_type": "code",
   "execution_count": 118,
   "id": "a876a20b",
   "metadata": {},
   "outputs": [
    {
     "data": {
      "text/plain": [
       "0.5975609756097561"
      ]
     },
     "execution_count": 118,
     "metadata": {},
     "output_type": "execute_result"
    }
   ],
   "source": [
    "clf.score(X_test, Y_test)"
   ]
  },
  {
   "cell_type": "code",
   "execution_count": 91,
   "id": "f55209d3",
   "metadata": {},
   "outputs": [
    {
     "data": {
      "text/plain": [
       "array([1, 1, 1, 1, 1, 1, 1, 1, 1, 1, 1, 0, 1, 1, 1, 1, 1, 1, 1, 1, 1, 1,\n",
       "       1, 1, 1, 1, 1, 1, 1, 1, 1, 1, 1, 1, 1, 1, 1, 1, 1, 1, 1, 1, 1, 0,\n",
       "       1, 1, 1, 1, 1, 1, 1, 1, 1, 0, 1, 1, 1, 1, 1, 0, 0, 1, 1, 1, 1, 0,\n",
       "       0, 1, 1, 1, 1, 1, 1, 1, 1, 1, 1, 1, 1, 1, 0, 1])"
      ]
     },
     "execution_count": 91,
     "metadata": {},
     "output_type": "execute_result"
    }
   ],
   "source": [
    "clf.predict(X_test)"
   ]
  },
  {
   "cell_type": "code",
   "execution_count": 86,
   "id": "c5d062e0",
   "metadata": {
    "scrolled": true
   },
   "outputs": [
    {
     "data": {
      "text/plain": [
       "[1,\n",
       " 0,\n",
       " 0,\n",
       " 1,\n",
       " 1,\n",
       " 0,\n",
       " 1,\n",
       " 1,\n",
       " 1,\n",
       " 0,\n",
       " 0,\n",
       " 0,\n",
       " 0,\n",
       " 0,\n",
       " 1,\n",
       " 1,\n",
       " 0,\n",
       " 0,\n",
       " 0,\n",
       " 0,\n",
       " 1,\n",
       " 0,\n",
       " 1,\n",
       " 0,\n",
       " 0,\n",
       " 1,\n",
       " 1,\n",
       " 1,\n",
       " 0,\n",
       " 1,\n",
       " 1,\n",
       " 0,\n",
       " 1,\n",
       " 1,\n",
       " 0,\n",
       " 0,\n",
       " 1,\n",
       " 1,\n",
       " 1,\n",
       " 1,\n",
       " 0,\n",
       " 0,\n",
       " 0,\n",
       " 0,\n",
       " 0,\n",
       " 1,\n",
       " 0,\n",
       " 1,\n",
       " 1,\n",
       " 0,\n",
       " 1,\n",
       " 1,\n",
       " 1,\n",
       " 1,\n",
       " 0,\n",
       " 1,\n",
       " 0,\n",
       " 1,\n",
       " 1,\n",
       " 0,\n",
       " 1,\n",
       " 0,\n",
       " 1,\n",
       " 1,\n",
       " 0,\n",
       " 0,\n",
       " 0,\n",
       " 0,\n",
       " 1,\n",
       " 0,\n",
       " 1,\n",
       " 0,\n",
       " 0,\n",
       " 1,\n",
       " 0,\n",
       " 0,\n",
       " 1,\n",
       " 0,\n",
       " 0,\n",
       " 0,\n",
       " 0,\n",
       " 0]"
      ]
     },
     "execution_count": 86,
     "metadata": {},
     "output_type": "execute_result"
    }
   ],
   "source": [
    "Y_test"
   ]
  },
  {
   "cell_type": "code",
   "execution_count": 107,
   "id": "eab98967",
   "metadata": {},
   "outputs": [],
   "source": [
    "c = df_se.groupby('side_effect_name').count()\n",
    "filtered_se = c[c.drug>=5].index\n",
    "d = df_se[df_se.side_effect_name.isin(filtered_se)].drug.unique()"
   ]
  },
  {
   "cell_type": "code",
   "execution_count": 130,
   "id": "5b0a312f",
   "metadata": {},
   "outputs": [
    {
     "data": {
      "text/plain": [
       "False"
      ]
     },
     "execution_count": 130,
     "metadata": {},
     "output_type": "execute_result"
    }
   ],
   "source": [
    "'Perceptual distortions' in filtered_se"
   ]
  },
  {
   "cell_type": "code",
   "execution_count": 128,
   "id": "cb6d68ba",
   "metadata": {},
   "outputs": [
    {
     "data": {
      "text/plain": [
       "array(['DB00790'], dtype=object)"
      ]
     },
     "execution_count": 128,
     "metadata": {},
     "output_type": "execute_result"
    }
   ],
   "source": [
    "df_se[df_se.side_effect_name=='Perceptual distortions'].drug.unique()"
   ]
  },
  {
   "cell_type": "code",
   "execution_count": 132,
   "id": "9b3da35d",
   "metadata": {},
   "outputs": [],
   "source": [
    "cc = df_se.groupby('side_effect_name').count().sort_values('drug')\n",
    "filtered_se = c[c.drug>=5].index"
   ]
  },
  {
   "cell_type": "code",
   "execution_count": 139,
   "id": "0cfbb6b4",
   "metadata": {},
   "outputs": [
    {
     "data": {
      "text/plain": [
       "(5296, 1)"
      ]
     },
     "execution_count": 139,
     "metadata": {},
     "output_type": "execute_result"
    }
   ],
   "source": [
    "cc.shape"
   ]
  },
  {
   "cell_type": "code",
   "execution_count": 138,
   "id": "4b8282c1",
   "metadata": {},
   "outputs": [
    {
     "data": {
      "text/html": [
       "<div>\n",
       "<style scoped>\n",
       "    .dataframe tbody tr th:only-of-type {\n",
       "        vertical-align: middle;\n",
       "    }\n",
       "\n",
       "    .dataframe tbody tr th {\n",
       "        vertical-align: top;\n",
       "    }\n",
       "\n",
       "    .dataframe thead th {\n",
       "        text-align: right;\n",
       "    }\n",
       "</style>\n",
       "<table border=\"1\" class=\"dataframe\">\n",
       "  <thead>\n",
       "    <tr style=\"text-align: right;\">\n",
       "      <th></th>\n",
       "      <th>drug</th>\n",
       "    </tr>\n",
       "    <tr>\n",
       "      <th>side_effect_name</th>\n",
       "      <th></th>\n",
       "    </tr>\n",
       "  </thead>\n",
       "  <tbody>\n",
       "    <tr>\n",
       "      <th>Corneal sensitivity decreased</th>\n",
       "      <td>5</td>\n",
       "    </tr>\n",
       "    <tr>\n",
       "      <th>Convulsions generalised</th>\n",
       "      <td>5</td>\n",
       "    </tr>\n",
       "    <tr>\n",
       "      <th>Radiation pneumonitis</th>\n",
       "      <td>5</td>\n",
       "    </tr>\n",
       "    <tr>\n",
       "      <th>Clumsiness</th>\n",
       "      <td>5</td>\n",
       "    </tr>\n",
       "    <tr>\n",
       "      <th>Bladder carcinoma</th>\n",
       "      <td>5</td>\n",
       "    </tr>\n",
       "    <tr>\n",
       "      <th>...</th>\n",
       "      <td>...</td>\n",
       "    </tr>\n",
       "    <tr>\n",
       "      <th>Injection site bruising</th>\n",
       "      <td>5</td>\n",
       "    </tr>\n",
       "    <tr>\n",
       "      <th>Male sexual dysfunction</th>\n",
       "      <td>5</td>\n",
       "    </tr>\n",
       "    <tr>\n",
       "      <th>Immobile</th>\n",
       "      <td>5</td>\n",
       "    </tr>\n",
       "    <tr>\n",
       "      <th>Livedo reticularis</th>\n",
       "      <td>5</td>\n",
       "    </tr>\n",
       "    <tr>\n",
       "      <th>Hypoglycaemic coma</th>\n",
       "      <td>5</td>\n",
       "    </tr>\n",
       "  </tbody>\n",
       "</table>\n",
       "<p>202 rows × 1 columns</p>\n",
       "</div>"
      ],
      "text/plain": [
       "                               drug\n",
       "side_effect_name                   \n",
       "Corneal sensitivity decreased     5\n",
       "Convulsions generalised           5\n",
       "Radiation pneumonitis             5\n",
       "Clumsiness                        5\n",
       "Bladder carcinoma                 5\n",
       "...                             ...\n",
       "Injection site bruising           5\n",
       "Male sexual dysfunction           5\n",
       "Immobile                          5\n",
       "Livedo reticularis                5\n",
       "Hypoglycaemic coma                5\n",
       "\n",
       "[202 rows x 1 columns]"
      ]
     },
     "execution_count": 138,
     "metadata": {},
     "output_type": "execute_result"
    }
   ],
   "source": [
    "cc[cc.drug>=5]"
   ]
  },
  {
   "cell_type": "code",
   "execution_count": 112,
   "id": "1300d81e",
   "metadata": {},
   "outputs": [
    {
     "data": {
      "text/plain": [
       "(5296,)"
      ]
     },
     "execution_count": 112,
     "metadata": {},
     "output_type": "execute_result"
    }
   ],
   "source": [
    "df_se.side_effect_name.unique().shape"
   ]
  },
  {
   "cell_type": "code",
   "execution_count": 109,
   "id": "9a1c6877",
   "metadata": {},
   "outputs": [
    {
     "data": {
      "text/plain": [
       "(814,)"
      ]
     },
     "execution_count": 109,
     "metadata": {},
     "output_type": "execute_result"
    }
   ],
   "source": [
    "d.shape"
   ]
  },
  {
   "cell_type": "code",
   "execution_count": 110,
   "id": "59881a62",
   "metadata": {},
   "outputs": [
    {
     "data": {
      "text/plain": [
       "(814, 814)"
      ]
     },
     "execution_count": 110,
     "metadata": {},
     "output_type": "execute_result"
    }
   ],
   "source": [
    "drug_chem_sim.shape"
   ]
  },
  {
   "cell_type": "code",
   "execution_count": 114,
   "id": "24882d6d",
   "metadata": {},
   "outputs": [
    {
     "data": {
      "text/html": [
       "<div>\n",
       "<style scoped>\n",
       "    .dataframe tbody tr th:only-of-type {\n",
       "        vertical-align: middle;\n",
       "    }\n",
       "\n",
       "    .dataframe tbody tr th {\n",
       "        vertical-align: top;\n",
       "    }\n",
       "\n",
       "    .dataframe thead th {\n",
       "        text-align: right;\n",
       "    }\n",
       "</style>\n",
       "<table border=\"1\" class=\"dataframe\">\n",
       "  <thead>\n",
       "    <tr style=\"text-align: right;\">\n",
       "      <th></th>\n",
       "      <th>drug</th>\n",
       "      <th>side_effect_name</th>\n",
       "    </tr>\n",
       "  </thead>\n",
       "  <tbody>\n",
       "    <tr>\n",
       "      <th>1</th>\n",
       "      <td>DB01048</td>\n",
       "      <td>Abdominal discomfort</td>\n",
       "    </tr>\n",
       "    <tr>\n",
       "      <th>2</th>\n",
       "      <td>DB01048</td>\n",
       "      <td>Abdominal pain</td>\n",
       "    </tr>\n",
       "    <tr>\n",
       "      <th>3</th>\n",
       "      <td>DB01048</td>\n",
       "      <td>Abdominal pain upper</td>\n",
       "    </tr>\n",
       "    <tr>\n",
       "      <th>4</th>\n",
       "      <td>DB01048</td>\n",
       "      <td>Abnormal dreams</td>\n",
       "    </tr>\n",
       "    <tr>\n",
       "      <th>5</th>\n",
       "      <td>DB01048</td>\n",
       "      <td>Acute coronary syndrome</td>\n",
       "    </tr>\n",
       "    <tr>\n",
       "      <th>...</th>\n",
       "      <td>...</td>\n",
       "      <td>...</td>\n",
       "    </tr>\n",
       "    <tr>\n",
       "      <th>114048</th>\n",
       "      <td>DB01624</td>\n",
       "      <td>Vulvovaginal dryness</td>\n",
       "    </tr>\n",
       "    <tr>\n",
       "      <th>114049</th>\n",
       "      <td>DB01624</td>\n",
       "      <td>Warmth</td>\n",
       "    </tr>\n",
       "    <tr>\n",
       "      <th>114050</th>\n",
       "      <td>DB01624</td>\n",
       "      <td>Weight decreased</td>\n",
       "    </tr>\n",
       "    <tr>\n",
       "      <th>114051</th>\n",
       "      <td>DB01624</td>\n",
       "      <td>Weight increased</td>\n",
       "    </tr>\n",
       "    <tr>\n",
       "      <th>114052</th>\n",
       "      <td>DB01624</td>\n",
       "      <td>Withdrawal symptom</td>\n",
       "    </tr>\n",
       "  </tbody>\n",
       "</table>\n",
       "<p>107426 rows × 2 columns</p>\n",
       "</div>"
      ],
      "text/plain": [
       "           drug         side_effect_name\n",
       "1       DB01048     Abdominal discomfort\n",
       "2       DB01048           Abdominal pain\n",
       "3       DB01048     Abdominal pain upper\n",
       "4       DB01048          Abnormal dreams\n",
       "5       DB01048  Acute coronary syndrome\n",
       "...         ...                      ...\n",
       "114048  DB01624     Vulvovaginal dryness\n",
       "114049  DB01624                   Warmth\n",
       "114050  DB01624         Weight decreased\n",
       "114051  DB01624         Weight increased\n",
       "114052  DB01624       Withdrawal symptom\n",
       "\n",
       "[107426 rows x 2 columns]"
      ]
     },
     "execution_count": 114,
     "metadata": {},
     "output_type": "execute_result"
    }
   ],
   "source": [
    "df_se[df_se.side_effect_name.isin(filtered_se)]"
   ]
  },
  {
   "cell_type": "code",
   "execution_count": null,
   "id": "f41cc880",
   "metadata": {},
   "outputs": [],
   "source": []
  }
 ],
 "metadata": {
  "kernelspec": {
   "display_name": "Python 3 (ipykernel)",
   "language": "python",
   "name": "python3"
  },
  "language_info": {
   "codemirror_mode": {
    "name": "ipython",
    "version": 3
   },
   "file_extension": ".py",
   "mimetype": "text/x-python",
   "name": "python",
   "nbconvert_exporter": "python",
   "pygments_lexer": "ipython3",
   "version": "3.9.0"
  }
 },
 "nbformat": 4,
 "nbformat_minor": 5
}
